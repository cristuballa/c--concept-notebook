{
 "cells": [
  {
   "cell_type": "code",
   "execution_count": null,
   "metadata": {
    "dotnet_interactive": {
     "language": "csharp"
    },
    "vscode": {
     "languageId": "dotnet-interactive.csharp"
    }
   },
   "outputs": [
    {
     "name": "stdout",
     "output_type": "stream",
     "text": [
      "Thread 56 starting...\r\n",
      "Thread 56 completed..\r\n",
      "Thread 58 starting...\r\n",
      "Thread 58 completed..\r\n",
      "Thread 59 starting...\r\n",
      "Thread 59 completed..\r\n",
      "Thread 60 starting...\r\n",
      "Thread 60 completed..\r\n",
      "Thread 57 starting...\r\n"
     ]
    }
   ],
   "source": [
    "using System.Threading;\n",
    "using System;\n",
    "\n",
    "static object _locker=new object(); \n",
    "\n",
    "for (int i=0; i<6; i++)\n",
    "{\n",
    "    new Thread(Dowork).Start();\n",
    "}\n",
    "Console.Read();\n",
    "\n",
    "public static void Dowork()\n",
    "{\n",
    "    lock(_locker)\n",
    "    {\n",
    "        Console.WriteLine($\"Thread {Thread.CurrentThread.ManagedThreadId} starting...\");\n",
    "        Thread.Sleep(200);\n",
    "        Console.WriteLine($\"Thread {Thread.CurrentThread.ManagedThreadId} completed..\");\n",
    "    }\n",
    "}"
   ]
  },
  {
   "cell_type": "markdown",
   "metadata": {},
   "source": [
    "C# multi-threading with lock concept. "
   ]
  },
  {
   "cell_type": "code",
   "execution_count": null,
   "metadata": {
    "dotnet_interactive": {
     "language": "csharp"
    },
    "vscode": {
     "languageId": "dotnet-interactive.csharp"
    }
   },
   "outputs": [],
   "source": [
    "using System.Threading;\n",
    "using System;\n",
    "\n",
    "for (int i=0; i<6; i++)\n",
    "{\n",
    "    new Thread(Dowork).Start();\n",
    "}\n",
    "Console.Read();\n",
    "\n",
    "public static void Dowork()\n",
    "{\n",
    "    try\n",
    "    {\n",
    "        Monitor.Enter(_locker);\n",
    "        Console.WriteLine($\"Thread {Thread.CurrentThread.ManagedThreadId} starting...\");\n",
    "        Thread.Sleep(200);\n",
    "        throw new Exception(\"exception\");\n",
    "        Console.WriteLine($\"Thread {Thread.CurrentThread.ManagedThreadId} completed..\");\n",
    "\n",
    "    } catch(Exception ex)\n",
    "    {\n",
    "        Console.WriteLine(ex.Message);\n",
    "    }finally\n",
    "    {\n",
    "        Monitor.Exit(_locker);\n",
    "    }\n",
    "\n",
    "}"
   ]
  },
  {
   "cell_type": "markdown",
   "metadata": {},
   "source": [
    "C# multi-threading with monitor concept. "
   ]
  },
  {
   "cell_type": "code",
   "execution_count": null,
   "metadata": {
    "dotnet_interactive": {
     "language": "csharp"
    },
    "vscode": {
     "languageId": "dotnet-interactive.csharp"
    }
   },
   "outputs": [
    {
     "name": "stdout",
     "output_type": "stream",
     "text": [
      "Thread 62 writing...\r\n",
      "Thread 58 waiting...\r\n",
      "Thread 59 waiting...\r\n",
      "Thread 60 waiting...\r\n",
      "Thread 55 waiting...\r\n",
      "Thread 7 waiting...\r\n",
      "Thread 45 waiting...\r\n"
     ]
    }
   ],
   "source": [
    "using System.Threading;\n",
    "using System;\n",
    "static ManualResetEvent _mre= new ManualResetEvent(false);\n",
    "\n",
    "new Thread(Write).Start();\n",
    "\n",
    "for (int i=0; i<6; i++)\n",
    "{\n",
    "    new Thread(Read).Start();\n",
    "}\n",
    "\n",
    "Console.Read();\n",
    "\n",
    "public static void Write()\n",
    "{\n",
    "    Console.WriteLine($\"Thread {Thread.CurrentThread.ManagedThreadId} writing...\");\n",
    "    _mre.Reset();\n",
    "    Thread.Sleep(5000);\n",
    "    Console.WriteLine($\"Thread {Thread.CurrentThread.ManagedThreadId} Writing completed..\");\n",
    "    _mre.Set();\n",
    "}\n",
    "\n",
    "public static void Read()\n",
    "{\n",
    "    Console.WriteLine($\"Thread {Thread.CurrentThread.ManagedThreadId} waiting...\");\n",
    "   _mre.WaitOne();\n",
    "    Console.WriteLine($\"Thread {Thread.CurrentThread.ManagedThreadId} reading ..\");\n",
    "}"
   ]
  },
  {
   "cell_type": "markdown",
   "metadata": {},
   "source": [
    "C# multi-threading with manual reset concept. "
   ]
  },
  {
   "cell_type": "code",
   "execution_count": null,
   "metadata": {
    "dotnet_interactive": {
     "language": "csharp"
    },
    "vscode": {
     "languageId": "dotnet-interactive.csharp"
    }
   },
   "outputs": [],
   "source": [
    "using System.Threading;\n",
    "using System;\n",
    "static AutoResetEvent _are= new AutoResetEvent(false);\n",
    "\n",
    "new Thread(Write).Start();\n",
    "\n",
    "for (int i=0; i<6; i++)\n",
    "{\n",
    "    new Thread(Read).Start();\n",
    "}\n",
    "\n",
    "Console.Read();\n",
    "\n",
    "public static void Write()\n",
    "{\n",
    "    Console.WriteLine($\"Thread {Thread.CurrentThread.ManagedThreadId} waiting...\");\n",
    "    _are.WaitOne();\n",
    "    Console.WriteLine($\"Thread {Thread.CurrentThread.ManagedThreadId} writing...\");\n",
    "    Thread.Sleep(5000);\n",
    "    Console.WriteLine($\"Thread {Thread.CurrentThread.ManagedThreadId} Writing completed..\");\n",
    "    _are.Set();\n",
    "}"
   ]
  },
  {
   "cell_type": "markdown",
   "metadata": {},
   "source": [
    "C# multi-threading with auto reset concept. "
   ]
  },
  {
   "cell_type": "code",
   "execution_count": null,
   "metadata": {
    "dotnet_interactive": {
     "language": "csharp"
    },
    "vscode": {
     "languageId": "dotnet-interactive.csharp"
    }
   },
   "outputs": [
    {
     "name": "stdout",
     "output_type": "stream",
     "text": [
      "Thread 16 waiting...\r\n",
      "Thread 50 waiting...\r\n",
      "Thread 41 waiting...\r\n",
      "Thread 23 waiting...\r\n",
      "Thread 38 waiting...\r\n",
      "Thread 44 waiting...\r\n",
      "Thread 16 writing...\r\n"
     ]
    }
   ],
   "source": [
    "using System.Threading;\n",
    "using System;\n",
    "static Mutex _mutex= new Mutex();\n",
    "\n",
    "//new Thread(Write).Start();\n",
    "\n",
    "for (int i=0; i<6; i++)\n",
    "{\n",
    "    new Thread(Write).Start();\n",
    "}\n",
    "\n",
    "Console.Read();\n",
    "\n",
    "public static void Write()\n",
    "{\n",
    "    Console.WriteLine($\"Thread {Thread.CurrentThread.ManagedThreadId} waiting...\");\n",
    "    _mutex.WaitOne();\n",
    "    Console.WriteLine($\"Thread {Thread.CurrentThread.ManagedThreadId} writing...\");\n",
    "    Thread.Sleep(5000);\n",
    "    Console.WriteLine($\"Thread {Thread.CurrentThread.ManagedThreadId} Writing completed..\");\n",
    "    _mutex.ReleaseMutex();\n",
    "}"
   ]
  },
  {
   "cell_type": "markdown",
   "metadata": {},
   "source": [
    "C# multi-threading with mutex concept. "
   ]
  },
  {
   "cell_type": "code",
   "execution_count": null,
   "metadata": {
    "dotnet_interactive": {
     "language": "csharp"
    },
    "vscode": {
     "languageId": "dotnet-interactive.csharp"
    }
   },
   "outputs": [
    {
     "name": "stdout",
     "output_type": "stream",
     "text": [
      "Thread 71 waiting...\r\n",
      "Thread 71 writing...\r\n",
      "Thread 11 waiting...\r\n",
      "Thread 11 writing...\r\n",
      "Thread 37 waiting...\r\n",
      "Thread 49 waiting...\r\n",
      "Thread 40 waiting...\r\n",
      "Thread 10 waiting...\r\n",
      "Thread 11 Writing completed..\r\n",
      "Thread 71 Writing completed..\r\n",
      "Thread 37 writing...\r\n",
      "Thread 49 writing...\r\n",
      "Thread 49 Writing completed..\r\n",
      "Thread 40 writing...\r\n",
      "Thread 37 Writing completed..\r\n",
      "Thread 10 writing...\r\n",
      "Thread 10 Writing completed..\r\n",
      "Thread 40 Writing completed..\r\n"
     ]
    }
   ],
   "source": [
    "using System.Threading;\n",
    "using System;\n",
    "static Semaphore _semaphor= new Semaphore(2,2);\n",
    "\n",
    "for (int i=0; i<6; i++)\n",
    "{\n",
    "    new Thread(Write).Start();\n",
    "}\n",
    "\n",
    "Console.Read();\n",
    "\n",
    "public static void Write()\n",
    "{\n",
    "    Console.WriteLine($\"Thread {Thread.CurrentThread.ManagedThreadId} waiting...\");\n",
    "    _semaphor.WaitOne();\n",
    "    Console.WriteLine($\"Thread {Thread.CurrentThread.ManagedThreadId} writing...\");\n",
    "    Thread.Sleep(100);\n",
    "    Console.WriteLine($\"Thread {Thread.CurrentThread.ManagedThreadId} Writing completed..\");\n",
    "    _semaphor.Release();\n",
    "}"
   ]
  },
  {
   "cell_type": "markdown",
   "metadata": {},
   "source": [
    "C# multi-threading with semaphore concept. "
   ]
  }
 ],
 "metadata": {
  "kernelspec": {
   "display_name": ".NET (C#)",
   "language": "C#",
   "name": ".net-csharp"
  },
  "language_info": {
   "name": "C#"
  }
 },
 "nbformat": 4,
 "nbformat_minor": 2
}
